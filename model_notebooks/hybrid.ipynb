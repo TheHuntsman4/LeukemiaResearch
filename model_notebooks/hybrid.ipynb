{
 "cells": [
  {
   "cell_type": "code",
   "execution_count": 1,
   "metadata": {},
   "outputs": [
    {
     "name": "stderr",
     "output_type": "stream",
     "text": [
      "2024-01-24 12:11:27.142041: I tensorflow/core/util/port.cc:111] oneDNN custom operations are on. You may see slightly different numerical results due to floating-point round-off errors from different computation orders. To turn them off, set the environment variable `TF_ENABLE_ONEDNN_OPTS=0`.\n",
      "2024-01-24 12:11:27.171079: I tensorflow/tsl/cuda/cudart_stub.cc:28] Could not find cuda drivers on your machine, GPU will not be used.\n",
      "2024-01-24 12:11:27.285520: E tensorflow/compiler/xla/stream_executor/cuda/cuda_dnn.cc:9342] Unable to register cuDNN factory: Attempting to register factory for plugin cuDNN when one has already been registered\n",
      "2024-01-24 12:11:27.285575: E tensorflow/compiler/xla/stream_executor/cuda/cuda_fft.cc:609] Unable to register cuFFT factory: Attempting to register factory for plugin cuFFT when one has already been registered\n",
      "2024-01-24 12:11:27.286218: E tensorflow/compiler/xla/stream_executor/cuda/cuda_blas.cc:1518] Unable to register cuBLAS factory: Attempting to register factory for plugin cuBLAS when one has already been registered\n",
      "2024-01-24 12:11:27.335483: I tensorflow/tsl/cuda/cudart_stub.cc:28] Could not find cuda drivers on your machine, GPU will not be used.\n",
      "2024-01-24 12:11:27.336339: I tensorflow/core/platform/cpu_feature_guard.cc:182] This TensorFlow binary is optimized to use available CPU instructions in performance-critical operations.\n",
      "To enable the following instructions: AVX2 AVX_VNNI FMA, in other operations, rebuild TensorFlow with the appropriate compiler flags.\n",
      "2024-01-24 12:11:28.170645: W tensorflow/compiler/tf2tensorrt/utils/py_utils.cc:38] TF-TRT Warning: Could not find TensorRT\n"
     ]
    }
   ],
   "source": [
    "import tensorflow as tf\n",
    "from tensorflow.keras.models import Model\n",
    "from tensorflow.keras.layers import Input"
   ]
  },
  {
   "cell_type": "code",
   "execution_count": null,
   "metadata": {},
   "outputs": [],
   "source": [
    "# Load the two models\n",
    "inception_model = tf.keras.models.load_model('../h5files/LeukInception.h5') \n",
    "xception_model = tf.keras.models.load_model('../h5files/LeukXception.h5')\n",
    "\n",
    "# Create an input layer for the combined model\n",
    "inputs = Input(shape=(224, 224, 3))\n",
    "\n",
    "# Get the outputs of the two models \n",
    "inception_output = inception_model(inputs)\n",
    "xception_output = xception_model(inputs)\n",
    "\n",
    "# Concatenate the outputs\n",
    "combined = tf.keras.layers.concatenate([inception_output, xception_output])\n",
    "\n",
    "# Add prediction head for the combined outputs\n",
    "outputs = tf.keras.layers.Dense(2, activation='sigmoid')(combined)\n",
    "\n",
    "# Create the hybrid model\n",
    "hybrid_model = Model(inputs=inputs, outputs=outputs)\n",
    "\n",
    "# Compile and train the model\n",
    "hybrid_model.compile(optimizer='adam', loss='binary_crossentropy',metrics=['accuracy', Recall(name='recall'), Precision(name='precision')]) \n",
    "hybrid_model.fit(x_train, y_train, epochs=10)"
   ]
  },
  {
   "cell_type": "code",
   "execution_count": null,
   "metadata": {},
   "outputs": [],
   "source": [
    "epochs = 15\n",
    "\n",
    "# Load Inception and Xception models\n",
    "inception_model = tf.keras.models.load_model('inception_model.h5')\n",
    "xception_model = tf.keras.models.load_model('xception_model.h5')\n",
    "\n",
    "# Create and compile hybrid model\n",
    "inputs = Input(shape=(224, 224, 3))\n",
    "inception_output = inception_model(inputs) \n",
    "xception_output = xception_model(inputs)\n",
    "combined = keras.layers.concatenate([inception_output, xception_output]) \n",
    "x = keras.layers.GlobalMaxPooling2D()(combined)\n",
    "outputs = keras.layers.Dense(2, activation='sigmoid')(x)\n",
    "hybrid_model = Model(inputs=inputs, outputs=outputs)\n",
    "hybrid_model.compile(\n",
    "    optimizer=Adamax(learning_rate=0.001),\n",
    "    loss='binary_crossentropy',\n",
    "    metrics=['accuracy', Recall(name='recall'), Precision(name='precision')])\n",
    "\n",
    "# Fit hybrid model\n"
   ]
  }
 ],
 "metadata": {
  "kernelspec": {
   "display_name": "Python 3",
   "language": "python",
   "name": "python3"
  },
  "language_info": {
   "codemirror_mode": {
    "name": "ipython",
    "version": 3
   },
   "file_extension": ".py",
   "mimetype": "text/x-python",
   "name": "python",
   "nbconvert_exporter": "python",
   "pygments_lexer": "ipython3",
   "version": "3.10.6"
  }
 },
 "nbformat": 4,
 "nbformat_minor": 2
}
